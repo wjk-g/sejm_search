{
 "cells": [
  {
   "cell_type": "code",
   "execution_count": 2,
   "metadata": {},
   "outputs": [],
   "source": [
    "import json"
   ]
  },
  {
   "cell_type": "code",
   "execution_count": 18,
   "metadata": {},
   "outputs": [],
   "source": [
    "with open('data/committees_list.json') as f:\n",
    "    data = json.load(f)"
   ]
  },
  {
   "cell_type": "code",
   "execution_count": 22,
   "metadata": {},
   "outputs": [
    {
     "data": {
      "text/plain": [
       "{'appointmentDate': '2023-11-21',\n",
       " 'code': 'ENM',\n",
       " 'compositionDate': '2023-11-21',\n",
       " 'members': [{'club': 'KO',\n",
       "   'function': 'przewodniczący',\n",
       "   'id': 374,\n",
       "   'lastFirstName': 'Szumilas Krystyna'},\n",
       "  {'club': 'KO',\n",
       "   'function': 'zastępca przewodniczącego',\n",
       "   'id': 87,\n",
       "   'lastFirstName': 'Gajewska Kinga'},\n",
       "  {'club': 'KO',\n",
       "   'function': 'zastępca przewodniczącego',\n",
       "   'id': 88,\n",
       "   'lastFirstName': 'Gapińska Elżbieta'},\n",
       "  {'club': 'PSL-TD',\n",
       "   'function': 'zastępca przewodniczącego',\n",
       "   'id': 314,\n",
       "   'lastFirstName': 'Różyński Wiesław'},\n",
       "  {'club': 'PiS',\n",
       "   'function': 'zastępca przewodniczącego',\n",
       "   'id': 355,\n",
       "   'lastFirstName': 'Stachowiak-Różecka Mirosława'},\n",
       "  {'club': 'Polska2050-TD',\n",
       "   'function': 'zastępca przewodniczącego',\n",
       "   'id': 376,\n",
       "   'lastFirstName': 'Szymanowska Ewa'},\n",
       "  {'club': 'KO', 'id': 17, 'lastFirstName': 'Bielawska Sylwia'},\n",
       "  {'club': 'PiS', 'id': 27, 'lastFirstName': 'Borowiak Joanna'},\n",
       "  {'club': 'PiS', 'id': 40, 'lastFirstName': 'Burzyńska Lidia'},\n",
       "  {'club': 'Polska2050-TD',\n",
       "   'id': 53,\n",
       "   'lastFirstName': 'Cwalina-Śliwowska Żaneta'},\n",
       "  {'club': 'PiS', 'id': 55, 'lastFirstName': 'Czarnecki Witold Wojciech'},\n",
       "  {'club': 'PiS', 'id': 66, 'lastFirstName': 'Dolata Zbigniew'},\n",
       "  {'club': 'KO', 'id': 145, 'lastFirstName': 'Józefaciuk Marcin'},\n",
       "  {'club': 'KO', 'id': 186, 'lastFirstName': 'Krawczyk Iwona Małgorzata'},\n",
       "  {'club': 'PiS', 'id': 192, 'lastFirstName': 'Kryj Andrzej'},\n",
       "  {'club': 'KO', 'id': 195, 'lastFirstName': 'Krzemiński Adam'},\n",
       "  {'club': 'Lewica', 'id': 198, 'lastFirstName': 'Kucharska-Dziedzic Anita'},\n",
       "  {'club': 'PiS', 'id': 203, 'lastFirstName': 'Kurowski Władysław'},\n",
       "  {'club': 'KO', 'id': 222, 'lastFirstName': 'Łoboda Dorota'},\n",
       "  {'club': 'PiS', 'id': 225, 'lastFirstName': 'Machałek Marzena Anna'},\n",
       "  {'club': 'PSL-TD', 'id': 229, 'lastFirstName': 'Maliszewski Mirosław'},\n",
       "  {'club': 'KO', 'id': 237, 'lastFirstName': 'Matusik-Lipiec Katarzyna'},\n",
       "  {'club': 'PiS',\n",
       "   'id': 250,\n",
       "   'lastFirstName': 'Mrówczyński Aleksander Mikołaj'},\n",
       "  {'club': 'PiS', 'id': 255, 'lastFirstName': 'Müller Piotr'},\n",
       "  {'club': 'Polska2050-TD', 'id': 264, 'lastFirstName': 'Nowak Maja Ewa'},\n",
       "  {'club': 'Lewica', 'id': 273, 'lastFirstName': 'Olko Dorota'},\n",
       "  {'club': 'KO', 'id': 293, 'lastFirstName': 'Pietrzczyk Lucjan Marek'},\n",
       "  {'club': 'PiS', 'id': 294, 'lastFirstName': 'Piontkowski Dariusz'},\n",
       "  {'club': 'Konfederacja',\n",
       "   'id': 296,\n",
       "   'lastFirstName': 'Płaczek Grzegorz Adam'},\n",
       "  {'club': 'KO', 'id': 308, 'lastFirstName': 'Rak Renata'},\n",
       "  {'club': 'PiS', 'id': 310, 'lastFirstName': 'Rau Zbigniew'},\n",
       "  {'club': 'PiS', 'id': 330, 'lastFirstName': 'Schreiber Łukasz'},\n",
       "  {'club': 'PiS', 'id': 343, 'lastFirstName': 'Skwarek Sławomir'},\n",
       "  {'club': 'KO', 'id': 414, 'lastFirstName': 'Wcisło Marta'},\n",
       "  {'club': 'KO', 'id': 426, 'lastFirstName': 'Witczak Adrian'},\n",
       "  {'club': 'PiS', 'id': 453, 'lastFirstName': 'Zieliński Tomasz'},\n",
       "  {'club': 'PSL-TD', 'id': 454, 'lastFirstName': 'Zięba-Gzik Jolanta'}],\n",
       " 'name': 'Komisja Edukacji, Nauki i Młodzieży',\n",
       " 'nameGenitive': 'Komisji Edukacji, Nauki i Młodzieży',\n",
       " 'phone': '(22) 694-12-99, 694-20-85',\n",
       " 'scope': 'Do zakresu działania Komisji należą sprawy kształcenia i wychowania przedszkolnego, podstawowego, ogólnokształcącego, zawodowego, pomaturalnego i wyższego, oświaty dorosłych, kształcenia, dokształcania i doskonalenia zawodowego nauczycieli oraz kadr naukowych, wypoczynku, kultury fizycznej i sportu dzieci i młodzieży, opieki nad dziećmi i młodzieżą, archiwów, polityki rozwoju nauki i postępu technicznego, organizacji i kierowania nauką, badań naukowych, jednostek badowczo - rozwojowych, wdrożeń wyników badań do praktyki, wynalazczości i racjonalizacji, metrologii i jakości, korporacji i stowarzyszeń naukowych, współpracy naukowej za granicą, samorządu uczniowskiego i studenckiego oraz w jednostkach badawczo - rozwojowych, a także sprawy realizacji aspiracji młodego pokolenia oraz społeczno - zawodowej adaptacji młodzieży; przedmiotowy zakres działania Komisji nie zwalnia innych komisji od szczególnej troski o sprawy postępu naukowo - technicznego w dziedzinach należących do ich właściwości.',\n",
       " 'type': 'STANDING'}"
      ]
     },
     "execution_count": 22,
     "metadata": {},
     "output_type": "execute_result"
    }
   ],
   "source": [
    "len(data) # 34 committees\n",
    "data\n",
    "# Fields:\n",
    "    # appointmentDate\n",
    "    # code (acts as id) ==> used to access info and session data\n",
    "    # compositionDate\n",
    "    # members => list of dictionaries (club, function, id, lastFirstName)\n",
    "    # name\n",
    "    # nameGenitive\n",
    "    # phone\n",
    "    # scope\n",
    "    # type\n",
    "\n",
    "data[1]"
   ]
  },
  {
   "cell_type": "code",
   "execution_count": null,
   "metadata": {},
   "outputs": [],
   "source": []
  }
 ],
 "metadata": {
  "kernelspec": {
   "display_name": ".venv",
   "language": "python",
   "name": "python3"
  },
  "language_info": {
   "codemirror_mode": {
    "name": "ipython",
    "version": 3
   },
   "file_extension": ".py",
   "mimetype": "text/x-python",
   "name": "python",
   "nbconvert_exporter": "python",
   "pygments_lexer": "ipython3",
   "version": "3.12.3"
  }
 },
 "nbformat": 4,
 "nbformat_minor": 2
}
